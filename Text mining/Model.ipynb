{
 "cells": [
  {
   "cell_type": "code",
   "execution_count": 1,
   "metadata": {},
   "outputs": [],
   "source": [
    "import pandas as pd\n",
    "from sklearn.feature_extraction.text import TfidfVectorizer\n",
    "from sklearn.model_selection import train_test_split\n",
    "from sklearn.preprocessing import LabelEncoder\n",
    "from sklearn.feature_extraction.text import CountVectorizer\n",
    "from sklearn.feature_extraction.text import TfidfTransformer"
   ]
  },
  {
   "cell_type": "code",
   "execution_count": 2,
   "metadata": {
    "scrolled": true
   },
   "outputs": [
    {
     "data": {
      "text/html": [
       "<div>\n",
       "<style scoped>\n",
       "    .dataframe tbody tr th:only-of-type {\n",
       "        vertical-align: middle;\n",
       "    }\n",
       "\n",
       "    .dataframe tbody tr th {\n",
       "        vertical-align: top;\n",
       "    }\n",
       "\n",
       "    .dataframe thead th {\n",
       "        text-align: right;\n",
       "    }\n",
       "</style>\n",
       "<table border=\"1\" class=\"dataframe\">\n",
       "  <thead>\n",
       "    <tr style=\"text-align: right;\">\n",
       "      <th></th>\n",
       "      <th>Tweet</th>\n",
       "      <th>Label</th>\n",
       "      <th>clean_tweet</th>\n",
       "    </tr>\n",
       "  </thead>\n",
       "  <tbody>\n",
       "    <tr>\n",
       "      <th>683</th>\n",
       "      <td>otak wc otak babi yg menerima ahok kafir &amp; kam...</td>\n",
       "      <td>HS</td>\n",
       "      <td>otak wc otak babi yg terima ahok kafir kamu ah...</td>\n",
       "    </tr>\n",
       "    <tr>\n",
       "      <th>684</th>\n",
       "      <td>DALAM PUTARAN DUA NANTI JIKA SAMPAI AHOK KAFIR...</td>\n",
       "      <td>HS</td>\n",
       "      <td>dalam putar dua nanti jika sampai ahok kafir c...</td>\n",
       "    </tr>\n",
       "    <tr>\n",
       "      <th>685</th>\n",
       "      <td>#IKLANAHOKJAHAT AHOK MENCIPTAKAN BARA API ANTA...</td>\n",
       "      <td>HS</td>\n",
       "      <td>iklanahokjahat ahok cipta bara api antara raky...</td>\n",
       "    </tr>\n",
       "    <tr>\n",
       "      <th>686</th>\n",
       "      <td>jangan heran pemerintahan jokowi sekarang ini ...</td>\n",
       "      <td>HS</td>\n",
       "      <td>jangan heran perintah jokowi sekarang ini buda...</td>\n",
       "    </tr>\n",
       "    <tr>\n",
       "      <th>687</th>\n",
       "      <td>Ya itu namanya cawgub goblok gak ngerti peratu...</td>\n",
       "      <td>HS</td>\n",
       "      <td>ya itu nama cawgub goblok gak ngei atur debat ...</td>\n",
       "    </tr>\n",
       "    <tr>\n",
       "      <th>688</th>\n",
       "      <td>BODOH jika para pendukung ahok yg Muslim tidak...</td>\n",
       "      <td>HS</td>\n",
       "      <td>bodoh jika para dukung ahok yg muslim tidak si...</td>\n",
       "    </tr>\n",
       "    <tr>\n",
       "      <th>689</th>\n",
       "      <td>Gubraaaaak!!!! Malu liatnya... Untung semalem ...</td>\n",
       "      <td>HS</td>\n",
       "      <td>gubraaaaak malu liat untung semalem debat ga k...</td>\n",
       "    </tr>\n",
       "    <tr>\n",
       "      <th>690</th>\n",
       "      <td>YG JELAS OTAK AHOK-DJAROT SUDAH SANGAT TUMPUL ...</td>\n",
       "      <td>HS</td>\n",
       "      <td>yg jelas otak ahok djarot sudah sangat tumpul ...</td>\n",
       "    </tr>\n",
       "    <tr>\n",
       "      <th>691</th>\n",
       "      <td>AHOK KAFIR BUKAN HANYA MALING TAPI JUGA GARONG...</td>\n",
       "      <td>HS</td>\n",
       "      <td>ahok kafir bukan hanya maling tapi juga garong...</td>\n",
       "    </tr>\n",
       "    <tr>\n",
       "      <th>692</th>\n",
       "      <td>Sumpah bego bgt sih kesel gue. Kenapa ada org ...</td>\n",
       "      <td>HS</td>\n",
       "      <td>sumpah bego bgt sih kesel gue kenapa ada org y...</td>\n",
       "    </tr>\n",
       "    <tr>\n",
       "      <th>693</th>\n",
       "      <td>responden2 yangg goblok2 belum faham &amp; juga wa...</td>\n",
       "      <td>HS</td>\n",
       "      <td>responden yangg goblok belum faham juga waawan...</td>\n",
       "    </tr>\n",
       "    <tr>\n",
       "      <th>694</th>\n",
       "      <td>FPI RENOVASI MASJID ITU SANGAT TEPAT, AHOK KAF...</td>\n",
       "      <td>HS</td>\n",
       "      <td>fpi renovasi masjid itu sangat tepat ahok kafi...</td>\n",
       "    </tr>\n",
       "    <tr>\n",
       "      <th>695</th>\n",
       "      <td>MENGAPA ahoker KRISTEN &amp; MUNAFIK tidak berhent...</td>\n",
       "      <td>HS</td>\n",
       "      <td>mengapa ahoker kristen munafik tidak henti olo...</td>\n",
       "    </tr>\n",
       "    <tr>\n",
       "      <th>696</th>\n",
       "      <td>uma surveynya si Botak yg menangkan Ahok. Kare...</td>\n",
       "      <td>HS</td>\n",
       "      <td>uma surveynya si botak yg menang ahok karena a...</td>\n",
       "    </tr>\n",
       "    <tr>\n",
       "      <th>697</th>\n",
       "      <td>AHOK PEMECAH BELAH UMMAT, AJARAN KRISTEN KONYO...</td>\n",
       "      <td>HS</td>\n",
       "      <td>ahok pecah belah ummat ajar kristen konyol dem...</td>\n",
       "    </tr>\n",
       "    <tr>\n",
       "      <th>698</th>\n",
       "      <td>Woy @aagym lu udah nonton yang ini? Fitnah? Pa...</td>\n",
       "      <td>HS</td>\n",
       "      <td>woy lu udah nonton yang ini fitnah pale lu yan...</td>\n",
       "    </tr>\n",
       "    <tr>\n",
       "      <th>699</th>\n",
       "      <td>Ahok :memilih pemimpin Berdasarkan agama melan...</td>\n",
       "      <td>HS</td>\n",
       "      <td>ahok pilih pimpin dasar agama langgar konstitu...</td>\n",
       "    </tr>\n",
       "    <tr>\n",
       "      <th>700</th>\n",
       "      <td>Saya pribumi, Kristen dan mendukung Ahok. Tapi...</td>\n",
       "      <td>HS</td>\n",
       "      <td>saya pribumi kristen dan dukung ahok tapi saya...</td>\n",
       "    </tr>\n",
       "    <tr>\n",
       "      <th>701</th>\n",
       "      <td>Maksudnya terbukti KORUPSI dan PENISTAAN agama...</td>\n",
       "      <td>HS</td>\n",
       "      <td>maksud bukti korupsi dan nista agama nya ya om...</td>\n",
       "    </tr>\n",
       "    <tr>\n",
       "      <th>702</th>\n",
       "      <td>Ehh TAIK, Bangsat lo, Omongan elo kayak IwAn b...</td>\n",
       "      <td>HS</td>\n",
       "      <td>ehh taik bangsat lo omong elo kayak iwan bopen...</td>\n",
       "    </tr>\n",
       "    <tr>\n",
       "      <th>703</th>\n",
       "      <td>Ehh anak anjing Ahok, Kelan itu blon siuman, m...</td>\n",
       "      <td>HS</td>\n",
       "      <td>ehh anak anjing ahok kelan itu blon siuman men...</td>\n",
       "    </tr>\n",
       "    <tr>\n",
       "      <th>704</th>\n",
       "      <td>CWE CAKEP TP BEGO.PANTES GK LAKU.SI AHOK CINA ...</td>\n",
       "      <td>HS</td>\n",
       "      <td>cwe cakep tp bego pantes gk laku si ahok cina ...</td>\n",
       "    </tr>\n",
       "    <tr>\n",
       "      <th>705</th>\n",
       "      <td>Dan ajeng pasti paham si Babi Ahok klo bicara ...</td>\n",
       "      <td>HS</td>\n",
       "      <td>dan ajeng pasti paham si babi ahok klo bicara ...</td>\n",
       "    </tr>\n",
       "    <tr>\n",
       "      <th>706</th>\n",
       "      <td>Itu dia, BUNUH AJA YG DIDEPAN MATA, DIA MAFIA ...</td>\n",
       "      <td>HS</td>\n",
       "      <td>itu dia bunuh aja yg depan mata dia mafia koru...</td>\n",
       "    </tr>\n",
       "    <tr>\n",
       "      <th>707</th>\n",
       "      <td>Gimana dgn Sumber waras.. Trans Jakarta ko jok...</td>\n",
       "      <td>HS</td>\n",
       "      <td>gimana dgn sumber waras trans jakaa ko jokowi ...</td>\n",
       "    </tr>\n",
       "    <tr>\n",
       "      <th>708</th>\n",
       "      <td>Muka Si BABi Ahok Tuh Yg Mirip SERBET Lantai.....</td>\n",
       "      <td>HS</td>\n",
       "      <td>muka si babi ahok tuh yg mirip serbet lantai</td>\n",
       "    </tr>\n",
       "    <tr>\n",
       "      <th>709</th>\n",
       "      <td>Betul bang hancurkan merka bang, musnahkan chi...</td>\n",
       "      <td>HS</td>\n",
       "      <td>betul bang hancur merka bang musnah china babi...</td>\n",
       "    </tr>\n",
       "    <tr>\n",
       "      <th>710</th>\n",
       "      <td>Sapa Yg bilang Ahok anti korupsi!?, klo grombo...</td>\n",
       "      <td>HS</td>\n",
       "      <td>sapa yg bilang ahok anti korupsi klo grombolan...</td>\n",
       "    </tr>\n",
       "    <tr>\n",
       "      <th>711</th>\n",
       "      <td>Gw juga ngimpi SENTILIN BIJI BABI AHOK, pcetar...</td>\n",
       "      <td>HS</td>\n",
       "      <td>gw juga ngimpi sentilin biji babi ahok pcetar ...</td>\n",
       "    </tr>\n",
       "    <tr>\n",
       "      <th>712</th>\n",
       "      <td>Mudah2an gw ketemu sama SI BABI IWAN BOPENG DI...</td>\n",
       "      <td>HS</td>\n",
       "      <td>mudah an gw ketemu sama si babi iwan bopeng di...</td>\n",
       "    </tr>\n",
       "  </tbody>\n",
       "</table>\n",
       "</div>"
      ],
      "text/plain": [
       "                                                 Tweet Label  \\\n",
       "683  otak wc otak babi yg menerima ahok kafir & kam...    HS   \n",
       "684  DALAM PUTARAN DUA NANTI JIKA SAMPAI AHOK KAFIR...    HS   \n",
       "685  #IKLANAHOKJAHAT AHOK MENCIPTAKAN BARA API ANTA...    HS   \n",
       "686  jangan heran pemerintahan jokowi sekarang ini ...    HS   \n",
       "687  Ya itu namanya cawgub goblok gak ngerti peratu...    HS   \n",
       "688  BODOH jika para pendukung ahok yg Muslim tidak...    HS   \n",
       "689  Gubraaaaak!!!! Malu liatnya... Untung semalem ...    HS   \n",
       "690  YG JELAS OTAK AHOK-DJAROT SUDAH SANGAT TUMPUL ...    HS   \n",
       "691  AHOK KAFIR BUKAN HANYA MALING TAPI JUGA GARONG...    HS   \n",
       "692  Sumpah bego bgt sih kesel gue. Kenapa ada org ...    HS   \n",
       "693  responden2 yangg goblok2 belum faham & juga wa...    HS   \n",
       "694  FPI RENOVASI MASJID ITU SANGAT TEPAT, AHOK KAF...    HS   \n",
       "695  MENGAPA ahoker KRISTEN & MUNAFIK tidak berhent...    HS   \n",
       "696  uma surveynya si Botak yg menangkan Ahok. Kare...    HS   \n",
       "697  AHOK PEMECAH BELAH UMMAT, AJARAN KRISTEN KONYO...    HS   \n",
       "698  Woy @aagym lu udah nonton yang ini? Fitnah? Pa...    HS   \n",
       "699  Ahok :memilih pemimpin Berdasarkan agama melan...    HS   \n",
       "700  Saya pribumi, Kristen dan mendukung Ahok. Tapi...    HS   \n",
       "701  Maksudnya terbukti KORUPSI dan PENISTAAN agama...    HS   \n",
       "702  Ehh TAIK, Bangsat lo, Omongan elo kayak IwAn b...    HS   \n",
       "703  Ehh anak anjing Ahok, Kelan itu blon siuman, m...    HS   \n",
       "704  CWE CAKEP TP BEGO.PANTES GK LAKU.SI AHOK CINA ...    HS   \n",
       "705  Dan ajeng pasti paham si Babi Ahok klo bicara ...    HS   \n",
       "706  Itu dia, BUNUH AJA YG DIDEPAN MATA, DIA MAFIA ...    HS   \n",
       "707  Gimana dgn Sumber waras.. Trans Jakarta ko jok...    HS   \n",
       "708  Muka Si BABi Ahok Tuh Yg Mirip SERBET Lantai.....    HS   \n",
       "709  Betul bang hancurkan merka bang, musnahkan chi...    HS   \n",
       "710  Sapa Yg bilang Ahok anti korupsi!?, klo grombo...    HS   \n",
       "711  Gw juga ngimpi SENTILIN BIJI BABI AHOK, pcetar...    HS   \n",
       "712  Mudah2an gw ketemu sama SI BABI IWAN BOPENG DI...    HS   \n",
       "\n",
       "                                           clean_tweet  \n",
       "683  otak wc otak babi yg terima ahok kafir kamu ah...  \n",
       "684  dalam putar dua nanti jika sampai ahok kafir c...  \n",
       "685  iklanahokjahat ahok cipta bara api antara raky...  \n",
       "686  jangan heran perintah jokowi sekarang ini buda...  \n",
       "687  ya itu nama cawgub goblok gak ngei atur debat ...  \n",
       "688  bodoh jika para dukung ahok yg muslim tidak si...  \n",
       "689  gubraaaaak malu liat untung semalem debat ga k...  \n",
       "690  yg jelas otak ahok djarot sudah sangat tumpul ...  \n",
       "691  ahok kafir bukan hanya maling tapi juga garong...  \n",
       "692  sumpah bego bgt sih kesel gue kenapa ada org y...  \n",
       "693  responden yangg goblok belum faham juga waawan...  \n",
       "694  fpi renovasi masjid itu sangat tepat ahok kafi...  \n",
       "695  mengapa ahoker kristen munafik tidak henti olo...  \n",
       "696  uma surveynya si botak yg menang ahok karena a...  \n",
       "697  ahok pecah belah ummat ajar kristen konyol dem...  \n",
       "698  woy lu udah nonton yang ini fitnah pale lu yan...  \n",
       "699  ahok pilih pimpin dasar agama langgar konstitu...  \n",
       "700  saya pribumi kristen dan dukung ahok tapi saya...  \n",
       "701  maksud bukti korupsi dan nista agama nya ya om...  \n",
       "702  ehh taik bangsat lo omong elo kayak iwan bopen...  \n",
       "703  ehh anak anjing ahok kelan itu blon siuman men...  \n",
       "704  cwe cakep tp bego pantes gk laku si ahok cina ...  \n",
       "705  dan ajeng pasti paham si babi ahok klo bicara ...  \n",
       "706  itu dia bunuh aja yg depan mata dia mafia koru...  \n",
       "707  gimana dgn sumber waras trans jakaa ko jokowi ...  \n",
       "708       muka si babi ahok tuh yg mirip serbet lantai  \n",
       "709  betul bang hancur merka bang musnah china babi...  \n",
       "710  sapa yg bilang ahok anti korupsi klo grombolan...  \n",
       "711  gw juga ngimpi sentilin biji babi ahok pcetar ...  \n",
       "712  mudah an gw ketemu sama si babi iwan bopeng di...  "
      ]
     },
     "execution_count": 2,
     "metadata": {},
     "output_type": "execute_result"
    }
   ],
   "source": [
    "df = pd.read_csv('data_tweet_clean.csv')\n",
    "df.tail(30)"
   ]
  },
  {
   "cell_type": "code",
   "execution_count": 3,
   "metadata": {},
   "outputs": [
    {
     "data": {
      "text/plain": [
       "(713, 3)"
      ]
     },
     "execution_count": 3,
     "metadata": {},
     "output_type": "execute_result"
    }
   ],
   "source": [
    "df.shape"
   ]
  },
  {
   "cell_type": "code",
   "execution_count": 4,
   "metadata": {},
   "outputs": [
    {
     "data": {
      "text/plain": [
       "Non_HS    453\n",
       "HS        260\n",
       "Name: Label, dtype: int64"
      ]
     },
     "execution_count": 4,
     "metadata": {},
     "output_type": "execute_result"
    }
   ],
   "source": [
    "df['Label'].value_counts()"
   ]
  },
  {
   "cell_type": "markdown",
   "metadata": {},
   "source": [
    "# Vectorization"
   ]
  },
  {
   "cell_type": "code",
   "execution_count": 5,
   "metadata": {},
   "outputs": [
    {
     "data": {
      "text/plain": [
       "(713, 2299)"
      ]
     },
     "execution_count": 5,
     "metadata": {},
     "output_type": "execute_result"
    }
   ],
   "source": [
    "X = df['clean_tweet']\n",
    "count_vect = CountVectorizer()\n",
    "X_train_counts = count_vect.fit_transform(X)\n",
    "X_train_counts.shape"
   ]
  },
  {
   "cell_type": "code",
   "execution_count": 6,
   "metadata": {},
   "outputs": [
    {
     "data": {
      "text/plain": [
       "(713, 2299)"
      ]
     },
     "execution_count": 6,
     "metadata": {},
     "output_type": "execute_result"
    }
   ],
   "source": [
    "tfidf_transformer = TfidfTransformer()\n",
    "X_train_tfidf = tfidf_transformer.fit_transform(X_train_counts)\n",
    "X_train_tfidf.shape"
   ]
  },
  {
   "cell_type": "code",
   "execution_count": 8,
   "metadata": {},
   "outputs": [],
   "source": [
    "le = LabelEncoder()\n",
    "y = le.fit_transform(df['Label'])"
   ]
  },
  {
   "cell_type": "code",
   "execution_count": 9,
   "metadata": {},
   "outputs": [],
   "source": [
    "X_train, X_test, y_train, y_test = train_test_split(X_train_tfidf, y, test_size=0.2, random_state=0)"
   ]
  },
  {
   "cell_type": "markdown",
   "metadata": {},
   "source": [
    "# Train model"
   ]
  },
  {
   "cell_type": "code",
   "execution_count": 10,
   "metadata": {},
   "outputs": [
    {
     "name": "stdout",
     "output_type": "stream",
     "text": [
      "Report : \n",
      "               precision    recall  f1-score   support\n",
      "\n",
      "           0       0.79      0.65      0.71        57\n",
      "           1       0.79      0.88      0.84        86\n",
      "\n",
      "    accuracy                           0.79       143\n",
      "   macro avg       0.79      0.77      0.77       143\n",
      "weighted avg       0.79      0.79      0.79       143\n",
      "\n",
      "Accuracy :  0.7902097902097902\n"
     ]
    }
   ],
   "source": [
    "from sklearn.neural_network import MLPClassifier\n",
    "from sklearn.metrics import classification_report, confusion_matrix, accuracy_score\n",
    "\n",
    "mlp = MLPClassifier(random_state=1, max_iter=300)\n",
    "mlp.fit(X_train, y_train)\n",
    "y_pred = mlp.predict(X_test)\n",
    "accs = []\n",
    "print(\"Report : \\n\", classification_report(y_test, y_pred))\n",
    "print(\"Accuracy : \",accuracy_score(y_test,y_pred))\n",
    "accs.append(accuracy_score(y_test, y_pred))"
   ]
  },
  {
   "cell_type": "code",
   "execution_count": 12,
   "metadata": {},
   "outputs": [
    {
     "name": "stdout",
     "output_type": "stream",
     "text": [
      "Report : \n",
      "               precision    recall  f1-score   support\n",
      "\n",
      "           0       0.79      0.65      0.71        57\n",
      "           1       0.79      0.88      0.84        86\n",
      "\n",
      "    accuracy                           0.79       143\n",
      "   macro avg       0.79      0.77      0.77       143\n",
      "weighted avg       0.79      0.79      0.79       143\n",
      "\n",
      "Accuracy :  0.7902097902097902\n"
     ]
    }
   ],
   "source": [
    "from sklearn.neighbors import KNeighborsClassifier\n",
    "knn = KNeighborsClassifier(n_neighbors=5)\n",
    "knn.fit(X_train,y_train)\n",
    "y_pred = knn.predict(X_test)\n",
    "print(\"Report : \\n\", classification_report(y_test, y_pred))\n",
    "print(\"Accuracy : \",accuracy_score(y_test,y_pred))\n",
    "accs.append(accuracy_score(y_test, y_pred))"
   ]
  },
  {
   "cell_type": "code",
   "execution_count": 13,
   "metadata": {},
   "outputs": [
    {
     "name": "stdout",
     "output_type": "stream",
     "text": [
      "Report : \n",
      "               precision    recall  f1-score   support\n",
      "\n",
      "           0       0.96      0.46      0.62        57\n",
      "           1       0.73      0.99      0.84        86\n",
      "\n",
      "    accuracy                           0.78       143\n",
      "   macro avg       0.85      0.72      0.73       143\n",
      "weighted avg       0.82      0.78      0.75       143\n",
      "\n",
      "Accuracy :  0.7762237762237763\n"
     ]
    }
   ],
   "source": [
    "from sklearn.ensemble import RandomForestClassifier\n",
    "rf = RandomForestClassifier(max_depth=10, random_state=1)\n",
    "rf.fit(X_train, y_train)\n",
    "y_pred = rf.predict(X_test)\n",
    "print(\"Report : \\n\", classification_report(y_test, y_pred))\n",
    "print(\"Accuracy : \",accuracy_score(y_test,y_pred))\n",
    "accs.append(accuracy_score(y_test, y_pred))"
   ]
  },
  {
   "cell_type": "code",
   "execution_count": 14,
   "metadata": {},
   "outputs": [
    {
     "name": "stdout",
     "output_type": "stream",
     "text": [
      "Report : \n",
      "               precision    recall  f1-score   support\n",
      "\n",
      "           0       1.00      0.54      0.70        57\n",
      "           1       0.77      1.00      0.87        86\n",
      "\n",
      "    accuracy                           0.82       143\n",
      "   macro avg       0.88      0.77      0.79       143\n",
      "weighted avg       0.86      0.82      0.80       143\n",
      "\n",
      "Accuracy :  0.8181818181818182\n"
     ]
    }
   ],
   "source": [
    "from sklearn.svm import SVC\n",
    "svm = SVC(kernel='rbf')\n",
    "svm.fit(X_train, y_train)\n",
    "y_pred = svm.predict(X_test)\n",
    "print(\"Report : \\n\", classification_report(y_test, y_pred))\n",
    "print(\"Accuracy : \",accuracy_score(y_test,y_pred))\n",
    "accs.append(accuracy_score(y_test, y_pred))"
   ]
  },
  {
   "cell_type": "code",
   "execution_count": 15,
   "metadata": {},
   "outputs": [
    {
     "data": {
      "text/html": [
       "<div>\n",
       "<style scoped>\n",
       "    .dataframe tbody tr th:only-of-type {\n",
       "        vertical-align: middle;\n",
       "    }\n",
       "\n",
       "    .dataframe tbody tr th {\n",
       "        vertical-align: top;\n",
       "    }\n",
       "\n",
       "    .dataframe thead th {\n",
       "        text-align: right;\n",
       "    }\n",
       "</style>\n",
       "<table border=\"1\" class=\"dataframe\">\n",
       "  <thead>\n",
       "    <tr style=\"text-align: right;\">\n",
       "      <th></th>\n",
       "      <th>Model</th>\n",
       "      <th>Accuracy</th>\n",
       "    </tr>\n",
       "  </thead>\n",
       "  <tbody>\n",
       "    <tr>\n",
       "      <th>0</th>\n",
       "      <td>Multi Layer Perceptron</td>\n",
       "      <td>0.790210</td>\n",
       "    </tr>\n",
       "    <tr>\n",
       "      <th>1</th>\n",
       "      <td>K-Nearest Neighbor</td>\n",
       "      <td>0.790210</td>\n",
       "    </tr>\n",
       "    <tr>\n",
       "      <th>2</th>\n",
       "      <td>Random Forest</td>\n",
       "      <td>0.776224</td>\n",
       "    </tr>\n",
       "    <tr>\n",
       "      <th>3</th>\n",
       "      <td>Support Vector Machine</td>\n",
       "      <td>0.818182</td>\n",
       "    </tr>\n",
       "  </tbody>\n",
       "</table>\n",
       "</div>"
      ],
      "text/plain": [
       "                    Model  Accuracy\n",
       "0  Multi Layer Perceptron  0.790210\n",
       "1      K-Nearest Neighbor  0.790210\n",
       "2           Random Forest  0.776224\n",
       "3  Support Vector Machine  0.818182"
      ]
     },
     "execution_count": 15,
     "metadata": {},
     "output_type": "execute_result"
    }
   ],
   "source": [
    "# Perbandingan Akurasi\n",
    "models = ['Multi Layer Perceptron','K-Nearest Neighbor','Random Forest', 'Support Vector Machine']\n",
    "result_df = pd.DataFrame(list(zip(models, accs)), columns =['Model', 'Accuracy']) \n",
    "result_df"
   ]
  },
  {
   "cell_type": "markdown",
   "metadata": {},
   "source": [
    "# Predict  new data"
   ]
  },
  {
   "cell_type": "code",
   "execution_count": 16,
   "metadata": {},
   "outputs": [],
   "source": [
    "import re\n",
    "import string\n",
    "from Sastrawi.Stemmer.StemmerFactory import StemmerFactory\n",
    "from Sastrawi.StopWordRemover.StopWordRemoverFactory import StopWordRemoverFactory\n",
    "\n",
    "def stopwords(tweet) :\n",
    "    factory = StopWordRemoverFactory()\n",
    "    stopword = factory.create_stop_word_remover()\n",
    "    tweet = tweet.translate(str.maketrans('','',string.punctuation)).lower()\n",
    "    return stopword.remove(tweet)\n",
    "\n",
    "def stem(tweet) :\n",
    "    factory = StemmerFactory()\n",
    "    stemmer = factory.create_stemmer()\n",
    "    hasil = stemmer.stem(tweet)\n",
    "    return hasil\n",
    "\n",
    "def is_hate_speech(list_tweets) :\n",
    "    new_tweet_clean = []\n",
    "    for tweet in list_tweets :\n",
    "        tweet = tweet.lower()\n",
    "        tweet = re.sub(r\"(?:\\@|https?\\://)\\S+\", \"\", tweet)\n",
    "        tweet = re.sub(r\"http\\S+\", \"\", tweet)\n",
    "        tweet = re.sub('\\n', '', tweet)\n",
    "        tweet = re.sub('rt', '', tweet)\n",
    "        tweet = re.sub(\"[^a-zA-Z^']\", \" \", tweet)\n",
    "        tweet = re.sub(\" {2,}\", \" \", tweet)\n",
    "        tweet = tweet.strip()\n",
    "        tweet = stem(tweet)\n",
    "        tweet = stopwords(tweet)\n",
    "        new_tweet_clean.append(tweet)\n",
    "        \n",
    "    X_new_counts = count_vect.transform(new_tweet_clean)\n",
    "    X_new_tfidf = tfidf_transformer.transform(X_new_counts)\n",
    "\n",
    "    predicted = svm.predict(X_new_tfidf)\n",
    "    hasil = []\n",
    "    for i in range(len(predicted)) :\n",
    "        if (predicted[i] == 0) :\n",
    "            hasil.append('Hate Speech')\n",
    "        else :\n",
    "            hasil.append('Non Hate Speech')\n",
    "\n",
    "    return hasil"
   ]
  },
  {
   "cell_type": "code",
   "execution_count": 17,
   "metadata": {},
   "outputs": [
    {
     "data": {
      "text/plain": [
       "['Non Hate Speech',\n",
       " 'Hate Speech',\n",
       " 'Non Hate Speech',\n",
       " 'Non Hate Speech',\n",
       " 'Hate Speech']"
      ]
     },
     "execution_count": 17,
     "metadata": {},
     "output_type": "execute_result"
    }
   ],
   "source": [
    "new_tweet = [\n",
    "    'RT @spardaxyz: Fadli Zon Minta Mendagri Segera Menonaktifkan Ahok Jadi Gubernur DKI https:\\\\/\\\\/t.co\\\\/KH5vIRwPdO',\n",
    "    'Kaga masuk diakal kite kalo suara seorang penista agama yg dah dikutuk ame umat islam suara nye bisa tinggi, emang sengaja ditinggiin tuh',\n",
    "    'Siang ini saya buka jasa baca telapak tangan buat 20 slot saya yaa, biaya? Tetep seikhlasnyaa saja. Yang dibaca adalah karakteristik yang disadari atau tidak, keuangan, karir dan love life. Silakan dm buat book slotnyaa. Terima kasih 🙏',\n",
    "    'Tuhan sudah menutup aibmu sedemikian rupa. Tapi kau malah membuka twitter dan memamerkannya. ;)',\n",
    "    'Sekarang ada jeda istirahat dulu woi bangsat babi'\n",
    "]\n",
    "\n",
    "is_hate_speech(new_tweet)"
   ]
  },
  {
   "cell_type": "code",
   "execution_count": null,
   "metadata": {},
   "outputs": [],
   "source": []
  }
 ],
 "metadata": {
  "kernelspec": {
   "display_name": "Python 3",
   "language": "python",
   "name": "python3"
  },
  "language_info": {
   "codemirror_mode": {
    "name": "ipython",
    "version": 3
   },
   "file_extension": ".py",
   "mimetype": "text/x-python",
   "name": "python",
   "nbconvert_exporter": "python",
   "pygments_lexer": "ipython3",
   "version": "3.7.3"
  }
 },
 "nbformat": 4,
 "nbformat_minor": 2
}
