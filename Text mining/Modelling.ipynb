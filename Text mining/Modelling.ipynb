{
 "cells": [
  {
   "cell_type": "code",
   "execution_count": 19,
   "metadata": {},
   "outputs": [],
   "source": [
    "import pandas as pd\n",
    "from sklearn.feature_extraction.text import TfidfVectorizer\n",
    "from sklearn.model_selection import train_test_split\n",
    "from sklearn.preprocessing import LabelEncoder"
   ]
  },
  {
   "cell_type": "code",
   "execution_count": 13,
   "metadata": {
    "scrolled": true
   },
   "outputs": [
    {
     "data": {
      "text/html": [
       "<div>\n",
       "<style scoped>\n",
       "    .dataframe tbody tr th:only-of-type {\n",
       "        vertical-align: middle;\n",
       "    }\n",
       "\n",
       "    .dataframe tbody tr th {\n",
       "        vertical-align: top;\n",
       "    }\n",
       "\n",
       "    .dataframe thead th {\n",
       "        text-align: right;\n",
       "    }\n",
       "</style>\n",
       "<table border=\"1\" class=\"dataframe\">\n",
       "  <thead>\n",
       "    <tr style=\"text-align: right;\">\n",
       "      <th></th>\n",
       "      <th>Tweet</th>\n",
       "      <th>Label</th>\n",
       "      <th>clean_tweet</th>\n",
       "    </tr>\n",
       "  </thead>\n",
       "  <tbody>\n",
       "    <tr>\n",
       "      <th>0</th>\n",
       "      <td>RT @spardaxyz: Fadli Zon Minta Mendagri Segera...</td>\n",
       "      <td>Non_HS</td>\n",
       "      <td>fadli zon minta mendagri segera nonaktif ahok ...</td>\n",
       "    </tr>\n",
       "    <tr>\n",
       "      <th>1</th>\n",
       "      <td>RT @baguscondromowo: Mereka terus melukai aksi...</td>\n",
       "      <td>Non_HS</td>\n",
       "      <td>mereka terus luka aksi dalam rangka penjara ah...</td>\n",
       "    </tr>\n",
       "    <tr>\n",
       "      <th>2</th>\n",
       "      <td>Sylvi: bagaimana gurbernur melakukan kekerasan...</td>\n",
       "      <td>Non_HS</td>\n",
       "      <td>sylvi bagaimana gurbernur laku keras perempuan...</td>\n",
       "    </tr>\n",
       "    <tr>\n",
       "      <th>3</th>\n",
       "      <td>Ahmad Dhani Tak Puas Debat Pilkada, Masalah Ja...</td>\n",
       "      <td>Non_HS</td>\n",
       "      <td>ahmad dhani tak puas debat pilkada masalah jal...</td>\n",
       "    </tr>\n",
       "    <tr>\n",
       "      <th>4</th>\n",
       "      <td>RT @lisdaulay28: Waspada KTP palsu.....kawal P...</td>\n",
       "      <td>Non_HS</td>\n",
       "      <td>waspada ktp palsu kawal pilkada</td>\n",
       "    </tr>\n",
       "  </tbody>\n",
       "</table>\n",
       "</div>"
      ],
      "text/plain": [
       "                                               Tweet   Label  \\\n",
       "0  RT @spardaxyz: Fadli Zon Minta Mendagri Segera...  Non_HS   \n",
       "1  RT @baguscondromowo: Mereka terus melukai aksi...  Non_HS   \n",
       "2  Sylvi: bagaimana gurbernur melakukan kekerasan...  Non_HS   \n",
       "3  Ahmad Dhani Tak Puas Debat Pilkada, Masalah Ja...  Non_HS   \n",
       "4  RT @lisdaulay28: Waspada KTP palsu.....kawal P...  Non_HS   \n",
       "\n",
       "                                         clean_tweet  \n",
       "0  fadli zon minta mendagri segera nonaktif ahok ...  \n",
       "1  mereka terus luka aksi dalam rangka penjara ah...  \n",
       "2  sylvi bagaimana gurbernur laku keras perempuan...  \n",
       "3  ahmad dhani tak puas debat pilkada masalah jal...  \n",
       "4                    waspada ktp palsu kawal pilkada  "
      ]
     },
     "execution_count": 13,
     "metadata": {},
     "output_type": "execute_result"
    }
   ],
   "source": [
    "df = pd.read_csv('data_tweet_clean.csv')\n",
    "df.head()"
   ]
  },
  {
   "cell_type": "code",
   "execution_count": 14,
   "metadata": {},
   "outputs": [
    {
     "data": {
      "text/plain": [
       "(713, 3)"
      ]
     },
     "execution_count": 14,
     "metadata": {},
     "output_type": "execute_result"
    }
   ],
   "source": [
    "df.shape"
   ]
  },
  {
   "cell_type": "code",
   "execution_count": 16,
   "metadata": {},
   "outputs": [
    {
     "data": {
      "text/plain": [
       "Non_HS    453\n",
       "HS        260\n",
       "Name: Label, dtype: int64"
      ]
     },
     "execution_count": 16,
     "metadata": {},
     "output_type": "execute_result"
    }
   ],
   "source": [
    "df['Label'].value_counts()"
   ]
  },
  {
   "cell_type": "markdown",
   "metadata": {},
   "source": [
    "# Vectorization"
   ]
  },
  {
   "cell_type": "code",
   "execution_count": 17,
   "metadata": {},
   "outputs": [],
   "source": [
    "tfidf_vectorizer = TfidfVectorizer()\n",
    "X  = tfidf_vectorizer.fit_transform(df['clean_tweet']).toarray()"
   ]
  },
  {
   "cell_type": "code",
   "execution_count": 21,
   "metadata": {},
   "outputs": [],
   "source": [
    "le = LabelEncoder()\n",
    "y = le.fit_transform(df['Label'])"
   ]
  },
  {
   "cell_type": "code",
   "execution_count": 22,
   "metadata": {},
   "outputs": [],
   "source": [
    "X_train, X_test, y_train, y_test = train_test_split(X, y, test_size=0.2, random_state=0)"
   ]
  },
  {
   "cell_type": "code",
   "execution_count": 40,
   "metadata": {},
   "outputs": [
    {
     "name": "stdout",
     "output_type": "stream",
     "text": [
      "Report : \n",
      "               precision    recall  f1-score   support\n",
      "\n",
      "           0       0.79      0.65      0.71        57\n",
      "           1       0.79      0.88      0.84        86\n",
      "\n",
      "    accuracy                           0.79       143\n",
      "   macro avg       0.79      0.77      0.77       143\n",
      "weighted avg       0.79      0.79      0.79       143\n",
      "\n",
      "Accuracy :  0.7902097902097902\n"
     ]
    }
   ],
   "source": [
    "from sklearn.neural_network import MLPClassifier\n",
    "from sklearn.metrics import classification_report, confusion_matrix, accuracy_score\n",
    "\n",
    "mlp = MLPClassifier(random_state=1, max_iter=300)\n",
    "mlp.fit(X_train, y_train)\n",
    "y_pred = mlp.predict(X_test)\n",
    "accs = []\n",
    "print(\"Report : \\n\", classification_report(y_test, y_pred))\n",
    "print(\"Accuracy : \",accuracy_score(y_test,y_pred))\n",
    "accs.append(accuracy_score(y_test, y_pred))"
   ]
  },
  {
   "cell_type": "code",
   "execution_count": 41,
   "metadata": {},
   "outputs": [
    {
     "name": "stdout",
     "output_type": "stream",
     "text": [
      "Report : \n",
      "               precision    recall  f1-score   support\n",
      "\n",
      "           0       0.70      0.65      0.67        57\n",
      "           1       0.78      0.81      0.80        86\n",
      "\n",
      "    accuracy                           0.75       143\n",
      "   macro avg       0.74      0.73      0.73       143\n",
      "weighted avg       0.75      0.75      0.75       143\n",
      "\n",
      "Accuracy :  0.7482517482517482\n"
     ]
    }
   ],
   "source": [
    "from sklearn.naive_bayes import GaussianNB\n",
    "gnb = GaussianNB()\n",
    "gnb.fit(X_train,y_train)\n",
    "y_pred = gnb.predict(X_test)\n",
    "print(\"Report : \\n\", classification_report(y_test, y_pred))\n",
    "print(\"Accuracy : \",accuracy_score(y_test,y_pred))\n",
    "accs.append(accuracy_score(y_test, y_pred))"
   ]
  },
  {
   "cell_type": "code",
   "execution_count": 42,
   "metadata": {},
   "outputs": [
    {
     "name": "stdout",
     "output_type": "stream",
     "text": [
      "Report : \n",
      "               precision    recall  f1-score   support\n",
      "\n",
      "           0       0.79      0.65      0.71        57\n",
      "           1       0.79      0.88      0.84        86\n",
      "\n",
      "    accuracy                           0.79       143\n",
      "   macro avg       0.79      0.77      0.77       143\n",
      "weighted avg       0.79      0.79      0.79       143\n",
      "\n",
      "Accuracy :  0.7902097902097902\n"
     ]
    }
   ],
   "source": [
    "from sklearn.neighbors import KNeighborsClassifier\n",
    "knn = KNeighborsClassifier(n_neighbors=5)\n",
    "knn.fit(X_train,y_train)\n",
    "y_pred = knn.predict(X_test)\n",
    "print(\"Report : \\n\", classification_report(y_test, y_pred))\n",
    "print(\"Accuracy : \",accuracy_score(y_test,y_pred))\n",
    "accs.append(accuracy_score(y_test, y_pred))"
   ]
  },
  {
   "cell_type": "code",
   "execution_count": 43,
   "metadata": {},
   "outputs": [
    {
     "name": "stdout",
     "output_type": "stream",
     "text": [
      "Report : \n",
      "               precision    recall  f1-score   support\n",
      "\n",
      "           0       0.96      0.46      0.62        57\n",
      "           1       0.73      0.99      0.84        86\n",
      "\n",
      "    accuracy                           0.78       143\n",
      "   macro avg       0.85      0.72      0.73       143\n",
      "weighted avg       0.82      0.78      0.75       143\n",
      "\n",
      "Accuracy :  0.7762237762237763\n"
     ]
    }
   ],
   "source": [
    "from sklearn.ensemble import RandomForestClassifier\n",
    "rf = RandomForestClassifier(max_depth=10, random_state=1)\n",
    "rf.fit(X_train, y_train)\n",
    "y_pred = rf.predict(X_test)\n",
    "print(\"Report : \\n\", classification_report(y_test, y_pred))\n",
    "print(\"Accuracy : \",accuracy_score(y_test,y_pred))\n",
    "accs.append(accuracy_score(y_test, y_pred))"
   ]
  },
  {
   "cell_type": "code",
   "execution_count": 44,
   "metadata": {},
   "outputs": [
    {
     "name": "stdout",
     "output_type": "stream",
     "text": [
      "Report : \n",
      "               precision    recall  f1-score   support\n",
      "\n",
      "           0       1.00      0.54      0.70        57\n",
      "           1       0.77      1.00      0.87        86\n",
      "\n",
      "    accuracy                           0.82       143\n",
      "   macro avg       0.88      0.77      0.79       143\n",
      "weighted avg       0.86      0.82      0.80       143\n",
      "\n",
      "Accuracy :  0.8181818181818182\n"
     ]
    }
   ],
   "source": [
    "from sklearn.svm import SVC\n",
    "svm = SVC(kernel='rbf')\n",
    "svm.fit(X_train, y_train)\n",
    "y_pred = svm.predict(X_test)\n",
    "print(\"Report : \\n\", classification_report(y_test, y_pred))\n",
    "print(\"Accuracy : \",accuracy_score(y_test,y_pred))\n",
    "accs.append(accuracy_score(y_test, y_pred))"
   ]
  },
  {
   "cell_type": "code",
   "execution_count": 45,
   "metadata": {},
   "outputs": [
    {
     "data": {
      "text/html": [
       "<div>\n",
       "<style scoped>\n",
       "    .dataframe tbody tr th:only-of-type {\n",
       "        vertical-align: middle;\n",
       "    }\n",
       "\n",
       "    .dataframe tbody tr th {\n",
       "        vertical-align: top;\n",
       "    }\n",
       "\n",
       "    .dataframe thead th {\n",
       "        text-align: right;\n",
       "    }\n",
       "</style>\n",
       "<table border=\"1\" class=\"dataframe\">\n",
       "  <thead>\n",
       "    <tr style=\"text-align: right;\">\n",
       "      <th></th>\n",
       "      <th>Model</th>\n",
       "      <th>Accuracy</th>\n",
       "    </tr>\n",
       "  </thead>\n",
       "  <tbody>\n",
       "    <tr>\n",
       "      <th>0</th>\n",
       "      <td>Multi Layer Perceptron</td>\n",
       "      <td>0.790210</td>\n",
       "    </tr>\n",
       "    <tr>\n",
       "      <th>1</th>\n",
       "      <td>Naive Bayes</td>\n",
       "      <td>0.748252</td>\n",
       "    </tr>\n",
       "    <tr>\n",
       "      <th>2</th>\n",
       "      <td>K-Nearest Neighbor</td>\n",
       "      <td>0.790210</td>\n",
       "    </tr>\n",
       "    <tr>\n",
       "      <th>3</th>\n",
       "      <td>Random Forest</td>\n",
       "      <td>0.776224</td>\n",
       "    </tr>\n",
       "    <tr>\n",
       "      <th>4</th>\n",
       "      <td>Support Vector Machine</td>\n",
       "      <td>0.818182</td>\n",
       "    </tr>\n",
       "  </tbody>\n",
       "</table>\n",
       "</div>"
      ],
      "text/plain": [
       "                    Model  Accuracy\n",
       "0  Multi Layer Perceptron  0.790210\n",
       "1             Naive Bayes  0.748252\n",
       "2      K-Nearest Neighbor  0.790210\n",
       "3           Random Forest  0.776224\n",
       "4  Support Vector Machine  0.818182"
      ]
     },
     "execution_count": 45,
     "metadata": {},
     "output_type": "execute_result"
    }
   ],
   "source": [
    "# Perbandingan Akurasi\n",
    "models = ['Multi Layer Perceptron','Naive Bayes','K-Nearest Neighbor','Random Forest', 'Support Vector Machine']\n",
    "result_df = pd.DataFrame(list(zip(models, accs)), columns =['Model', 'Accuracy']) \n",
    "result_df"
   ]
  }
 ],
 "metadata": {
  "kernelspec": {
   "display_name": "Python 3",
   "language": "python",
   "name": "python3"
  },
  "language_info": {
   "codemirror_mode": {
    "name": "ipython",
    "version": 3
   },
   "file_extension": ".py",
   "mimetype": "text/x-python",
   "name": "python",
   "nbconvert_exporter": "python",
   "pygments_lexer": "ipython3",
   "version": "3.7.3"
  }
 },
 "nbformat": 4,
 "nbformat_minor": 2
}
