{
 "cells": [
  {
   "cell_type": "code",
   "execution_count": 20,
   "metadata": {},
   "outputs": [],
   "source": [
    "import pandas as pd\n",
    "import matplotlib.pyplot as plt\n",
    "import csv\n",
    "import re\n",
    "import string"
   ]
  },
  {
   "cell_type": "code",
   "execution_count": 21,
   "metadata": {},
   "outputs": [],
   "source": [
    "with open('IDHSD_RIO_unbalanced_713_2017.txt') as f:\n",
    "    reader = csv.reader(f, delimiter='\\t')\n",
    "    data = [(col1, col4)\n",
    "                for col1, col4 in reader]\n"
   ]
  },
  {
   "cell_type": "code",
   "execution_count": 22,
   "metadata": {},
   "outputs": [
    {
     "data": {
      "text/html": [
       "<div>\n",
       "<style scoped>\n",
       "    .dataframe tbody tr th:only-of-type {\n",
       "        vertical-align: middle;\n",
       "    }\n",
       "\n",
       "    .dataframe tbody tr th {\n",
       "        vertical-align: top;\n",
       "    }\n",
       "\n",
       "    .dataframe thead th {\n",
       "        text-align: right;\n",
       "    }\n",
       "</style>\n",
       "<table border=\"1\" class=\"dataframe\">\n",
       "  <thead>\n",
       "    <tr style=\"text-align: right;\">\n",
       "      <th></th>\n",
       "      <th>Tweet</th>\n",
       "      <th>Label</th>\n",
       "    </tr>\n",
       "  </thead>\n",
       "  <tbody>\n",
       "    <tr>\n",
       "      <th>0</th>\n",
       "      <td>RT @spardaxyz: Fadli Zon Minta Mendagri Segera...</td>\n",
       "      <td>Non_HS</td>\n",
       "    </tr>\n",
       "    <tr>\n",
       "      <th>1</th>\n",
       "      <td>RT @baguscondromowo: Mereka terus melukai aksi...</td>\n",
       "      <td>Non_HS</td>\n",
       "    </tr>\n",
       "    <tr>\n",
       "      <th>2</th>\n",
       "      <td>Sylvi: bagaimana gurbernur melakukan kekerasan...</td>\n",
       "      <td>Non_HS</td>\n",
       "    </tr>\n",
       "    <tr>\n",
       "      <th>3</th>\n",
       "      <td>Ahmad Dhani Tak Puas Debat Pilkada, Masalah Ja...</td>\n",
       "      <td>Non_HS</td>\n",
       "    </tr>\n",
       "    <tr>\n",
       "      <th>4</th>\n",
       "      <td>RT @lisdaulay28: Waspada KTP palsu.....kawal P...</td>\n",
       "      <td>Non_HS</td>\n",
       "    </tr>\n",
       "  </tbody>\n",
       "</table>\n",
       "</div>"
      ],
      "text/plain": [
       "                                               Tweet   Label\n",
       "0  RT @spardaxyz: Fadli Zon Minta Mendagri Segera...  Non_HS\n",
       "1  RT @baguscondromowo: Mereka terus melukai aksi...  Non_HS\n",
       "2  Sylvi: bagaimana gurbernur melakukan kekerasan...  Non_HS\n",
       "3  Ahmad Dhani Tak Puas Debat Pilkada, Masalah Ja...  Non_HS\n",
       "4  RT @lisdaulay28: Waspada KTP palsu.....kawal P...  Non_HS"
      ]
     },
     "execution_count": 22,
     "metadata": {},
     "output_type": "execute_result"
    }
   ],
   "source": [
    "label = []\n",
    "tweet = []\n",
    "for i in range (1,len(data)) :\n",
    "    label.append(data[i][0])\n",
    "    tweet.append(data[i][1])\n",
    "    \n",
    "df = pd.DataFrame(list(zip(tweet, label)), \n",
    "               columns =['Tweet', 'Label']) \n",
    "df.head()"
   ]
  },
  {
   "cell_type": "code",
   "execution_count": 23,
   "metadata": {},
   "outputs": [
    {
     "data": {
      "text/plain": [
       "Non_HS    453\n",
       "HS        260\n",
       "Name: Label, dtype: int64"
      ]
     },
     "execution_count": 23,
     "metadata": {},
     "output_type": "execute_result"
    }
   ],
   "source": [
    "df['Label'].value_counts() "
   ]
  },
  {
   "cell_type": "markdown",
   "metadata": {},
   "source": [
    "# Data Cleaning"
   ]
  },
  {
   "cell_type": "code",
   "execution_count": 24,
   "metadata": {},
   "outputs": [],
   "source": [
    "tweets = []\n",
    "for tweet in df['Tweet'] :\n",
    "    tweet = tweet.lower()\n",
    "    tweet = re.sub(r\"(?:\\@|https?\\://)\\S+\", \"\", tweet)\n",
    "    tweet = re.sub(r\"http\\S+\", \"\", tweet)\n",
    "    tweet = re.sub('\\n', '', tweet)\n",
    "    tweet = re.sub('rt', '', tweet)\n",
    "    tweet = re.sub(\"[^a-zA-Z^']\", \" \", tweet)\n",
    "    tweet = re.sub(\" {2,}\", \" \", tweet)\n",
    "    tweet = tweet.strip()\n",
    "    tweets.append(tweet)\n",
    "df['clean_tweet'] = tweets"
   ]
  },
  {
   "cell_type": "code",
   "execution_count": 25,
   "metadata": {},
   "outputs": [
    {
     "data": {
      "text/html": [
       "<div>\n",
       "<style scoped>\n",
       "    .dataframe tbody tr th:only-of-type {\n",
       "        vertical-align: middle;\n",
       "    }\n",
       "\n",
       "    .dataframe tbody tr th {\n",
       "        vertical-align: top;\n",
       "    }\n",
       "\n",
       "    .dataframe thead th {\n",
       "        text-align: right;\n",
       "    }\n",
       "</style>\n",
       "<table border=\"1\" class=\"dataframe\">\n",
       "  <thead>\n",
       "    <tr style=\"text-align: right;\">\n",
       "      <th></th>\n",
       "      <th>Tweet</th>\n",
       "      <th>Label</th>\n",
       "      <th>clean_tweet</th>\n",
       "    </tr>\n",
       "  </thead>\n",
       "  <tbody>\n",
       "    <tr>\n",
       "      <th>0</th>\n",
       "      <td>RT @spardaxyz: Fadli Zon Minta Mendagri Segera...</td>\n",
       "      <td>Non_HS</td>\n",
       "      <td>fadli zon minta mendagri segera menonaktifkan ...</td>\n",
       "    </tr>\n",
       "    <tr>\n",
       "      <th>1</th>\n",
       "      <td>RT @baguscondromowo: Mereka terus melukai aksi...</td>\n",
       "      <td>Non_HS</td>\n",
       "      <td>mereka terus melukai aksi dalam rangka memenja...</td>\n",
       "    </tr>\n",
       "    <tr>\n",
       "      <th>2</th>\n",
       "      <td>Sylvi: bagaimana gurbernur melakukan kekerasan...</td>\n",
       "      <td>Non_HS</td>\n",
       "      <td>sylvi bagaimana gurbernur melakukan kekerasan ...</td>\n",
       "    </tr>\n",
       "    <tr>\n",
       "      <th>3</th>\n",
       "      <td>Ahmad Dhani Tak Puas Debat Pilkada, Masalah Ja...</td>\n",
       "      <td>Non_HS</td>\n",
       "      <td>ahmad dhani tak puas debat pilkada masalah jal...</td>\n",
       "    </tr>\n",
       "    <tr>\n",
       "      <th>4</th>\n",
       "      <td>RT @lisdaulay28: Waspada KTP palsu.....kawal P...</td>\n",
       "      <td>Non_HS</td>\n",
       "      <td>waspada ktp palsu kawal pilkada</td>\n",
       "    </tr>\n",
       "  </tbody>\n",
       "</table>\n",
       "</div>"
      ],
      "text/plain": [
       "                                               Tweet   Label  \\\n",
       "0  RT @spardaxyz: Fadli Zon Minta Mendagri Segera...  Non_HS   \n",
       "1  RT @baguscondromowo: Mereka terus melukai aksi...  Non_HS   \n",
       "2  Sylvi: bagaimana gurbernur melakukan kekerasan...  Non_HS   \n",
       "3  Ahmad Dhani Tak Puas Debat Pilkada, Masalah Ja...  Non_HS   \n",
       "4  RT @lisdaulay28: Waspada KTP palsu.....kawal P...  Non_HS   \n",
       "\n",
       "                                         clean_tweet  \n",
       "0  fadli zon minta mendagri segera menonaktifkan ...  \n",
       "1  mereka terus melukai aksi dalam rangka memenja...  \n",
       "2  sylvi bagaimana gurbernur melakukan kekerasan ...  \n",
       "3  ahmad dhani tak puas debat pilkada masalah jal...  \n",
       "4                    waspada ktp palsu kawal pilkada  "
      ]
     },
     "execution_count": 25,
     "metadata": {},
     "output_type": "execute_result"
    }
   ],
   "source": [
    "df.head()"
   ]
  },
  {
   "cell_type": "markdown",
   "metadata": {},
   "source": [
    "# Stemming"
   ]
  },
  {
   "cell_type": "code",
   "execution_count": 26,
   "metadata": {},
   "outputs": [],
   "source": [
    "from Sastrawi.Stemmer.StemmerFactory import StemmerFactory\n",
    "factory = StemmerFactory()\n",
    "stemmer = factory.create_stemmer()\n",
    "\n",
    "def stem(tweet) :\n",
    "    hasil = stemmer.stem(tweet)\n",
    "    return hasil\n",
    "\n",
    "df['clean_tweet'] = df.apply(lambda row : stem(row['clean_tweet']), axis = 1)"
   ]
  },
  {
   "cell_type": "markdown",
   "metadata": {},
   "source": [
    "# Stopwords Removal"
   ]
  },
  {
   "cell_type": "code",
   "execution_count": 27,
   "metadata": {},
   "outputs": [],
   "source": [
    "from Sastrawi.StopWordRemover.StopWordRemoverFactory import StopWordRemoverFactory\n",
    "# from nltk.tokenize import word_tokenize\n",
    "\n",
    "factory = StopWordRemoverFactory()\n",
    "stopword = factory.create_stop_word_remover()\n",
    "\n",
    "def stopwords(tweet) :\n",
    "    tweet = tweet.translate(str.maketrans('','',string.punctuation)).lower()\n",
    "    return stopword.remove(tweet)\n",
    "\n",
    "df['clean_tweet'] = df.apply(lambda row : stem(row['clean_tweet']), axis = 1)"
   ]
  },
  {
   "cell_type": "code",
   "execution_count": 28,
   "metadata": {},
   "outputs": [
    {
     "data": {
      "text/html": [
       "<div>\n",
       "<style scoped>\n",
       "    .dataframe tbody tr th:only-of-type {\n",
       "        vertical-align: middle;\n",
       "    }\n",
       "\n",
       "    .dataframe tbody tr th {\n",
       "        vertical-align: top;\n",
       "    }\n",
       "\n",
       "    .dataframe thead th {\n",
       "        text-align: right;\n",
       "    }\n",
       "</style>\n",
       "<table border=\"1\" class=\"dataframe\">\n",
       "  <thead>\n",
       "    <tr style=\"text-align: right;\">\n",
       "      <th></th>\n",
       "      <th>Tweet</th>\n",
       "      <th>Label</th>\n",
       "      <th>clean_tweet</th>\n",
       "    </tr>\n",
       "  </thead>\n",
       "  <tbody>\n",
       "    <tr>\n",
       "      <th>0</th>\n",
       "      <td>RT @spardaxyz: Fadli Zon Minta Mendagri Segera...</td>\n",
       "      <td>Non_HS</td>\n",
       "      <td>fadli zon minta mendagri segera nonaktif ahok ...</td>\n",
       "    </tr>\n",
       "    <tr>\n",
       "      <th>1</th>\n",
       "      <td>RT @baguscondromowo: Mereka terus melukai aksi...</td>\n",
       "      <td>Non_HS</td>\n",
       "      <td>mereka terus luka aksi dalam rangka penjara ah...</td>\n",
       "    </tr>\n",
       "    <tr>\n",
       "      <th>2</th>\n",
       "      <td>Sylvi: bagaimana gurbernur melakukan kekerasan...</td>\n",
       "      <td>Non_HS</td>\n",
       "      <td>sylvi bagaimana gurbernur laku keras perempuan...</td>\n",
       "    </tr>\n",
       "    <tr>\n",
       "      <th>3</th>\n",
       "      <td>Ahmad Dhani Tak Puas Debat Pilkada, Masalah Ja...</td>\n",
       "      <td>Non_HS</td>\n",
       "      <td>ahmad dhani tak puas debat pilkada masalah jal...</td>\n",
       "    </tr>\n",
       "    <tr>\n",
       "      <th>4</th>\n",
       "      <td>RT @lisdaulay28: Waspada KTP palsu.....kawal P...</td>\n",
       "      <td>Non_HS</td>\n",
       "      <td>waspada ktp palsu kawal pilkada</td>\n",
       "    </tr>\n",
       "  </tbody>\n",
       "</table>\n",
       "</div>"
      ],
      "text/plain": [
       "                                               Tweet   Label  \\\n",
       "0  RT @spardaxyz: Fadli Zon Minta Mendagri Segera...  Non_HS   \n",
       "1  RT @baguscondromowo: Mereka terus melukai aksi...  Non_HS   \n",
       "2  Sylvi: bagaimana gurbernur melakukan kekerasan...  Non_HS   \n",
       "3  Ahmad Dhani Tak Puas Debat Pilkada, Masalah Ja...  Non_HS   \n",
       "4  RT @lisdaulay28: Waspada KTP palsu.....kawal P...  Non_HS   \n",
       "\n",
       "                                         clean_tweet  \n",
       "0  fadli zon minta mendagri segera nonaktif ahok ...  \n",
       "1  mereka terus luka aksi dalam rangka penjara ah...  \n",
       "2  sylvi bagaimana gurbernur laku keras perempuan...  \n",
       "3  ahmad dhani tak puas debat pilkada masalah jal...  \n",
       "4                    waspada ktp palsu kawal pilkada  "
      ]
     },
     "execution_count": 28,
     "metadata": {},
     "output_type": "execute_result"
    }
   ],
   "source": [
    "df.head()"
   ]
  },
  {
   "cell_type": "code",
   "execution_count": 31,
   "metadata": {},
   "outputs": [],
   "source": [
    "df.to_csv('data_tweet_clean.csv', index=False) "
   ]
  },
  {
   "cell_type": "code",
   "execution_count": null,
   "metadata": {},
   "outputs": [],
   "source": []
  }
 ],
 "metadata": {
  "kernelspec": {
   "display_name": "Python 3",
   "language": "python",
   "name": "python3"
  },
  "language_info": {
   "codemirror_mode": {
    "name": "ipython",
    "version": 3
   },
   "file_extension": ".py",
   "mimetype": "text/x-python",
   "name": "python",
   "nbconvert_exporter": "python",
   "pygments_lexer": "ipython3",
   "version": "3.7.3"
  }
 },
 "nbformat": 4,
 "nbformat_minor": 2
}
